{
 "cells": [
  {
   "cell_type": "code",
   "execution_count": 1,
   "metadata": {
    "ExecuteTime": {
     "end_time": "2019-08-25T16:43:49.545561Z",
     "start_time": "2019-08-25T16:43:47.959147Z"
    }
   },
   "outputs": [],
   "source": [
    "import numpy as np\n",
    "\n",
    "from tqdm import tqdm\n",
    "from time import perf_counter\n",
    "from attacker import SGA\n",
    "from classifier import SGC, GCN\n",
    "\n",
    "import utils"
   ]
  },
  {
   "cell_type": "code",
   "execution_count": 2,
   "metadata": {},
   "outputs": [],
   "source": [
    "dataset = 'cora'\n",
    "adj, x, y = utils.load_npz(dataset)\n",
    "train_nodes, val_nodes, test_nodes = utils.train_val_test_split_tabular(y.shape[0], stratify=y, random_state=15)\n",
    "degree = adj.sum(1).A1"
   ]
  },
  {
   "cell_type": "code",
   "execution_count": 3,
   "metadata": {},
   "outputs": [
    {
     "name": "stdout",
     "output_type": "stream",
     "text": [
      "【Train】f1 micro 83.94%, f1_macro 81.38%, training time 33.56%\n",
      "【Test】f1 micro 84.76%, f1_macro 83.15%\n"
     ]
    }
   ],
   "source": [
    "model = SGC(adj, x, y, seed=None)\n",
    "acc, train_time, f1_micro, f1_macro = model.train(train_nodes, val_nodes=val_nodes, verbose=False)\n",
    "print(f'【Train】f1 micro {f1_micro:.2%}, f1_macro {f1_macro:.2%}, training time {train_time:.2%}')\n",
    "f1_micro, f1_macro = model.test(test_nodes)\n",
    "print(f'【Test】f1 micro {f1_micro:.2%}, f1_macro {f1_macro:.2%}')"
   ]
  },
  {
   "cell_type": "code",
   "execution_count": 4,
   "metadata": {},
   "outputs": [],
   "source": [
    "W, b = model.get_weight()\n",
    "attacker = SGA(adj, x, y, W, b)"
   ]
  },
  {
   "cell_type": "code",
   "execution_count": 5,
   "metadata": {},
   "outputs": [
    {
     "name": "stderr",
     "output_type": "stream",
     "text": [
      "Attacking: 1000it [00:05, 171.82it/s]\n"
     ]
    }
   ],
   "source": [
    "edges = {}\n",
    "t_all = {}\n",
    "targets = utils.sample_targets(test_nodes, size=1000, seed=42)\n",
    "for target, budget in tqdm(zip(targets, degree[targets]), desc=\"Attacking\"):\n",
    "    tb = perf_counter()\n",
    "    attacker.attack(target, budget, direct_attack=True)\n",
    "    te = perf_counter()\n",
    "    edge = attacker.get_attack_edge()\n",
    "    edges[target] = edge\n",
    "    t_all[target] = te - tb\n"
   ]
  },
  {
   "cell_type": "code",
   "execution_count": 6,
   "metadata": {},
   "outputs": [
    {
     "name": "stdout",
     "output_type": "stream",
     "text": [
      "Time used on average: 0.0058\n"
     ]
    }
   ],
   "source": [
    "print(f\"Time used on average: {np.mean(list(t_all.values())):.4f}\")"
   ]
  },
  {
   "cell_type": "code",
   "execution_count": 7,
   "metadata": {},
   "outputs": [],
   "source": [
    "import os\n",
    "import os.path as osp\n",
    "if not osp.exists(\"../adv_edges/\"):\n",
    "    os.mkdir(\"../adv_edges\")\n",
    "attack_model = 'SGA'\n",
    "np.savez(f'../adv_edges/{dataset}_{attack_model}', edges=edges, time=t_all)"
   ]
  }
 ],
 "metadata": {
  "kernelspec": {
   "display_name": "Python 3",
   "language": "python",
   "name": "python3"
  },
  "language_info": {
   "codemirror_mode": {
    "name": "ipython",
    "version": 3
   },
   "file_extension": ".py",
   "mimetype": "text/x-python",
   "name": "python",
   "nbconvert_exporter": "python",
   "pygments_lexer": "ipython3",
   "version": "3.7.4"
  },
  "toc": {
   "base_numbering": 1,
   "nav_menu": {},
   "number_sections": true,
   "sideBar": true,
   "skip_h1_title": false,
   "title_cell": "Table of Contents",
   "title_sidebar": "Contents",
   "toc_cell": false,
   "toc_position": {},
   "toc_section_display": true,
   "toc_window_display": false
  },
  "varInspector": {
   "cols": {
    "lenName": 16,
    "lenType": 16,
    "lenVar": 40
   },
   "kernels_config": {
    "python": {
     "delete_cmd_postfix": "",
     "delete_cmd_prefix": "del ",
     "library": "var_list.py",
     "varRefreshCmd": "print(var_dic_list())"
    },
    "r": {
     "delete_cmd_postfix": ") ",
     "delete_cmd_prefix": "rm(",
     "library": "var_list.r",
     "varRefreshCmd": "cat(var_dic_list()) "
    }
   },
   "types_to_exclude": [
    "module",
    "function",
    "builtin_function_or_method",
    "instance",
    "_Feature"
   ],
   "window_display": false
  }
 },
 "nbformat": 4,
 "nbformat_minor": 4
}
