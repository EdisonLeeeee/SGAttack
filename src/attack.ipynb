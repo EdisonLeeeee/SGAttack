{
 "cells": [
  {
   "cell_type": "code",
   "execution_count": 1,
   "metadata": {},
   "outputs": [],
   "source": [
    "import numpy as np\n",
    "from matplotlib import pyplot as plt\n",
    "from classifier import SGC, GCN\n",
    "from tqdm import tqdm\n",
    "\n",
    "import utils"
   ]
  },
  {
   "cell_type": "code",
   "execution_count": 2,
   "metadata": {},
   "outputs": [],
   "source": [
    "dataset = 'cora'\n",
    "adj, x, y = utils.load_npz(dataset)\n",
    "train_nodes, val_nodes, test_nodes = utils.train_val_test_split_tabular(y.shape[0], stratify=y, random_state=15)\n",
    "edges, time = utils.load_adv_edges(dataset, 'SGA')"
   ]
  },
  {
   "cell_type": "code",
   "execution_count": 3,
   "metadata": {},
   "outputs": [
    {
     "name": "stdout",
     "output_type": "stream",
     "text": [
      "【Test】f1 micro 85.60%, f1_macro 83.99%\n"
     ]
    }
   ],
   "source": [
    "model = SGC(adj, x, y, seed=42)\n",
    "model.train(train_nodes, val_nodes=val_nodes, verbose=False)\n",
    "f1_micro, f1_macro = model.test(list(edges.keys()))\n",
    "print(f'【Test】f1 micro {f1_micro:.2%}, f1_macro {f1_macro:.2%}')"
   ]
  },
  {
   "cell_type": "code",
   "execution_count": 4,
   "metadata": {},
   "outputs": [
    {
     "name": "stdout",
     "output_type": "stream",
     "text": [
      "【Test】f1 micro 85.10%, f1_macro 83.16%\n"
     ]
    }
   ],
   "source": [
    "model = GCN(adj, x, y, seed=42)\n",
    "model.train(train_nodes, val_nodes=val_nodes, verbose=False)\n",
    "f1_micro, f1_macro = model.test(list(edges.keys()))\n",
    "print(f'【Test】f1 micro {f1_micro:.2%}, f1_macro {f1_macro:.2%}')"
   ]
  },
  {
   "cell_type": "code",
   "execution_count": 5,
   "metadata": {},
   "outputs": [
    {
     "name": "stderr",
     "output_type": "stream",
     "text": [
      "Correctly classified 8, accuracy 0.80%: 100%|██████████| 1000/1000 [09:09<00:00,  1.82it/s]\n"
     ]
    }
   ],
   "source": [
    "count = 0\n",
    "pbar = tqdm(edges.items())\n",
    "for target, edge in pbar:\n",
    "    modified_adj = utils.flip_adj(adj, edge)\n",
    "    model = SGC(modified_adj, x, y, seed=42)\n",
    "    model.train(train_nodes, val_nodes=val_nodes, verbose=False)\n",
    "    pred = model.predict(target)\n",
    "    if pred.argmax() == y[target]:\n",
    "        count += 1\n",
    "    pbar.set_description(f\"Correctly classified {count}, accuracy {count/len(edges):.2%}\")"
   ]
  },
  {
   "cell_type": "code",
   "execution_count": 6,
   "metadata": {},
   "outputs": [
    {
     "name": "stderr",
     "output_type": "stream",
     "text": [
      "Correctly classified 13, accuracy 1.30%: 100%|██████████| 1000/1000 [17:38<00:00,  1.06s/it]\n"
     ]
    }
   ],
   "source": [
    "count = 0\n",
    "pbar = tqdm(edges.items())\n",
    "for target, edge in pbar:\n",
    "    modified_adj = utils.flip_adj(adj, edge)\n",
    "    model = GCN(modified_adj, x, y, seed=42)\n",
    "    model.train(train_nodes, val_nodes=val_nodes, verbose=False)\n",
    "    pred = model.predict(target)\n",
    "    if pred.argmax() == y[target]:\n",
    "        count += 1\n",
    "    pbar.set_description(f\"Correctly classified {count}, accuracy {count/len(edges):.2%}\")"
   ]
  }
 ],
 "metadata": {
  "kernelspec": {
   "display_name": "Python 3",
   "language": "python",
   "name": "python3"
  },
  "language_info": {
   "codemirror_mode": {
    "name": "ipython",
    "version": 3
   },
   "file_extension": ".py",
   "mimetype": "text/x-python",
   "name": "python",
   "nbconvert_exporter": "python",
   "pygments_lexer": "ipython3",
   "version": "3.7.4"
  },
  "toc": {
   "base_numbering": 1,
   "nav_menu": {},
   "number_sections": true,
   "sideBar": true,
   "skip_h1_title": false,
   "title_cell": "Table of Contents",
   "title_sidebar": "Contents",
   "toc_cell": false,
   "toc_position": {},
   "toc_section_display": true,
   "toc_window_display": false
  },
  "varInspector": {
   "cols": {
    "lenName": 16,
    "lenType": 16,
    "lenVar": 40
   },
   "kernels_config": {
    "python": {
     "delete_cmd_postfix": "",
     "delete_cmd_prefix": "del ",
     "library": "var_list.py",
     "varRefreshCmd": "print(var_dic_list())"
    },
    "r": {
     "delete_cmd_postfix": ") ",
     "delete_cmd_prefix": "rm(",
     "library": "var_list.r",
     "varRefreshCmd": "cat(var_dic_list()) "
    }
   },
   "types_to_exclude": [
    "module",
    "function",
    "builtin_function_or_method",
    "instance",
    "_Feature"
   ],
   "window_display": false
  }
 },
 "nbformat": 4,
 "nbformat_minor": 4
}
